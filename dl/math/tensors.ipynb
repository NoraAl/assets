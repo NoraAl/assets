{
  "nbformat": 4,
  "nbformat_minor": 0,
  "metadata": {
    "colab": {
      "provenance": [],
      "collapsed_sections": []
    },
    "kernelspec": {
      "name": "python3",
      "display_name": "Python 3"
    },
    "language_info": {
      "name": "python"
    }
  },
  "cells": [
    {
      "cell_type": "markdown",
      "source": [
        "# Tensors\n",
        "## Imports and Helpers"
      ],
      "metadata": {
        "id": "Wkmo-2MpE2Oh"
      }
    },
    {
      "cell_type": "code",
      "source": [
        "import tensorflow as tf\n",
        "\n",
        "class col:\n",
        "    header = '\\033[95m' ; blue = '\\033[94m' ; green = '\\033[92m' ; reset = '\\033[0m' ; bold = '\\033[1m'\n",
        "\n",
        "def header(string):\n",
        "  print(f'{col.header}{string}{col.reset}\\n')\n",
        "\n",
        "def print_index_value(t, index):\n",
        "  value =t[tuple(index)]\n",
        "  print(f'{col.blue}t{index} =\\n{col.green}{value} {col.reset}\\n')\n",
        "\n",
        "\n",
        "def info(t, indices):\n",
        "  print(f'{col.blue}Tensor:{col.reset}\\n{col.bold}{t.numpy()}{col.reset}\\n\\n{col.blue}rank =\\t{col.green}{tf.rank(t)}{col.reset}\\t{col.blue}\\nshape =\\t{col.green}{t.shape}{col.reset}')\n",
        "  \n",
        "  for index in indices:\n",
        "    print_index_value(t, index)\n",
        "  print()\n",
        "\n",
        "\n",
        "\n"
      ],
      "metadata": {
        "id": "3v0ll2F1vofu"
      },
      "execution_count": 1,
      "outputs": []
    },
    {
      "cell_type": "markdown",
      "source": [
        "## Points"
      ],
      "metadata": {
        "id": "7p3qoVnJDOxa"
      }
    },
    {
      "cell_type": "code",
      "execution_count": 2,
      "metadata": {
        "colab": {
          "base_uri": "https://localhost:8080/"
        },
        "id": "uT6SLirKX2R-",
        "outputId": "6c847023-746f-436c-8975-1b2617c3a343"
      },
      "outputs": [
        {
          "output_type": "stream",
          "name": "stdout",
          "text": [
            "\u001b[95mPoints are 0d tensors\u001b[0m\n",
            "\n",
            "\u001b[94mTensor:\u001b[0m\n",
            "\u001b[1m2\u001b[0m\n",
            "\n",
            "\u001b[94mrank =\t\u001b[92m0\u001b[0m\t\u001b[94m\n",
            "shape =\t\u001b[92m()\u001b[0m\n",
            "\u001b[94mt[] =\n",
            "\u001b[92m2 \u001b[0m\n",
            "\n",
            "\n",
            "\u001b[94mTensor:\u001b[0m\n",
            "\u001b[1m99\u001b[0m\n",
            "\n",
            "\u001b[94mrank =\t\u001b[92m0\u001b[0m\t\u001b[94m\n",
            "shape =\t\u001b[92m()\u001b[0m\n",
            "\u001b[94mt[] =\n",
            "\u001b[92m99 \u001b[0m\n",
            "\n",
            "\n"
          ]
        }
      ],
      "source": [
        "header('Points are 0d tensors')\n",
        "t = tf.Variable(2)\n",
        "info(t,[[]])\n",
        "\n",
        "t = tf.Variable(99)\n",
        "info(t,[[]])"
      ]
    },
    {
      "cell_type": "code",
      "source": [
        "header('Vectors are 1d tensors')\n",
        "t = tf.Variable([1])\n",
        "t = tf.Variable([0, 1])\n",
        "info(t, indices = [[1]])\n",
        "t = tf.Variable([0, 1, 2, 3, 4, 5, 6 ,7])\n",
        "info(t, indices = [[7]])\n"
      ],
      "metadata": {
        "colab": {
          "base_uri": "https://localhost:8080/"
        },
        "id": "PYanYFcSDlB9",
        "outputId": "acb5e247-d306-47c0-e357-4283e95a55d1"
      },
      "execution_count": 3,
      "outputs": [
        {
          "output_type": "stream",
          "name": "stdout",
          "text": [
            "\u001b[95mVectors are 1d tensors\u001b[0m\n",
            "\n",
            "\u001b[94mTensor:\u001b[0m\n",
            "\u001b[1m[0 1]\u001b[0m\n",
            "\n",
            "\u001b[94mrank =\t\u001b[92m1\u001b[0m\t\u001b[94m\n",
            "shape =\t\u001b[92m(2,)\u001b[0m\n",
            "\u001b[94mt[1] =\n",
            "\u001b[92m1 \u001b[0m\n",
            "\n",
            "\n",
            "\u001b[94mTensor:\u001b[0m\n",
            "\u001b[1m[0 1 2 3 4 5 6 7]\u001b[0m\n",
            "\n",
            "\u001b[94mrank =\t\u001b[92m1\u001b[0m\t\u001b[94m\n",
            "shape =\t\u001b[92m(8,)\u001b[0m\n",
            "\u001b[94mt[7] =\n",
            "\u001b[92m7 \u001b[0m\n",
            "\n",
            "\n"
          ]
        }
      ]
    },
    {
      "cell_type": "markdown",
      "source": [
        "## Matrices"
      ],
      "metadata": {
        "id": "yp6uFYMJDp-L"
      }
    },
    {
      "cell_type": "code",
      "source": [
        "header('Matrices are 2d tensors.')\n",
        "t = tf.Variable([[0], [10]])\n",
        "info(t, indices = [[1], [1,0]])\n",
        "\n",
        "t = tf.Variable([[1, 2], [10, 11]])\n",
        "info(t, indices = [[1], [1,1]])\n",
        "\n",
        "t = tf.Variable([[1, 2, 3, 4, 5], [10, 11, 12, 13 , 14], [20, 21, 22, 23 , 24],])\n",
        "info(t, indices = [[2],[2,4]])"
      ],
      "metadata": {
        "colab": {
          "base_uri": "https://localhost:8080/"
        },
        "id": "ucFLOft9D6ds",
        "outputId": "9e98e2ca-0b7e-40e5-d55d-bc641a22afb6"
      },
      "execution_count": 4,
      "outputs": [
        {
          "output_type": "stream",
          "name": "stdout",
          "text": [
            "\u001b[95mMatrices are 2d tensors.\u001b[0m\n",
            "\n",
            "\u001b[94mTensor:\u001b[0m\n",
            "\u001b[1m[[ 0]\n",
            " [10]]\u001b[0m\n",
            "\n",
            "\u001b[94mrank =\t\u001b[92m2\u001b[0m\t\u001b[94m\n",
            "shape =\t\u001b[92m(2, 1)\u001b[0m\n",
            "\u001b[94mt[1] =\n",
            "\u001b[92m[10] \u001b[0m\n",
            "\n",
            "\u001b[94mt[1, 0] =\n",
            "\u001b[92m10 \u001b[0m\n",
            "\n",
            "\n",
            "\u001b[94mTensor:\u001b[0m\n",
            "\u001b[1m[[ 1  2]\n",
            " [10 11]]\u001b[0m\n",
            "\n",
            "\u001b[94mrank =\t\u001b[92m2\u001b[0m\t\u001b[94m\n",
            "shape =\t\u001b[92m(2, 2)\u001b[0m\n",
            "\u001b[94mt[1] =\n",
            "\u001b[92m[10 11] \u001b[0m\n",
            "\n",
            "\u001b[94mt[1, 1] =\n",
            "\u001b[92m11 \u001b[0m\n",
            "\n",
            "\n",
            "\u001b[94mTensor:\u001b[0m\n",
            "\u001b[1m[[ 1  2  3  4  5]\n",
            " [10 11 12 13 14]\n",
            " [20 21 22 23 24]]\u001b[0m\n",
            "\n",
            "\u001b[94mrank =\t\u001b[92m2\u001b[0m\t\u001b[94m\n",
            "shape =\t\u001b[92m(3, 5)\u001b[0m\n",
            "\u001b[94mt[2] =\n",
            "\u001b[92m[20 21 22 23 24] \u001b[0m\n",
            "\n",
            "\u001b[94mt[2, 4] =\n",
            "\u001b[92m24 \u001b[0m\n",
            "\n",
            "\n"
          ]
        }
      ]
    },
    {
      "cell_type": "markdown",
      "source": [
        "## General Tensors\n",
        "They can be expressed in any number of dimensions like (0, 1, and 2) as in the above or more dimensions up to infinity.\n"
      ],
      "metadata": {
        "id": "8zrAbU4gEKPt"
      }
    },
    {
      "cell_type": "code",
      "source": [
        "header('Tensors come in any number dimensions')\n",
        "t = tf.Variable([[[0], [10], [20]], [[100], [110], [120]]])\n",
        "info(t, indices = [[1],[1,2],[1,2,0]])\n",
        "\n",
        "t = tf.Variable([[[0,1,2], [10, 11, 12]], [[100, 101, 102], [110, 111, 112]]])\n",
        "info(t, indices = [[0],[0,1], [1,0,1]])\n",
        "\n",
        "\n",
        "t = tf.Variable([\n",
        "    [[[0, 1, 2, 3], [10, 11, 12 , 13]], \n",
        "     [[100, 101, 102, 103], [110, 111, 112 , 113]],\n",
        "     [[200, 201, 202, 203], [210, 211, 212 , 213]],\n",
        "     ], \n",
        "     [[[1000, 1001, 1002, 1003], [1010, 1011, 1012 , 1013]], \n",
        "     [[1100, 1101, 1102, 1103], [1110, 1111, 1112 , 1113]],\n",
        "     [[1200, 1201, 1202, 1203], [1210, 1211, 1212 , 1213]],]\n",
        "                                                 ])\n",
        "info(t, indices = [[1], [1,2], [1,2,1], [1,2,1,3]])"
      ],
      "metadata": {
        "colab": {
          "base_uri": "https://localhost:8080/"
        },
        "id": "5GYGMtvVExYX",
        "outputId": "739ce9d1-b020-4973-a969-f22f7d60ac34"
      },
      "execution_count": 5,
      "outputs": [
        {
          "output_type": "stream",
          "name": "stdout",
          "text": [
            "\u001b[95mTensors come in any number dimensions\u001b[0m\n",
            "\n",
            "\u001b[94mTensor:\u001b[0m\n",
            "\u001b[1m[[[  0]\n",
            "  [ 10]\n",
            "  [ 20]]\n",
            "\n",
            " [[100]\n",
            "  [110]\n",
            "  [120]]]\u001b[0m\n",
            "\n",
            "\u001b[94mrank =\t\u001b[92m3\u001b[0m\t\u001b[94m\n",
            "shape =\t\u001b[92m(2, 3, 1)\u001b[0m\n",
            "\u001b[94mt[1] =\n",
            "\u001b[92m[[100]\n",
            " [110]\n",
            " [120]] \u001b[0m\n",
            "\n",
            "\u001b[94mt[1, 2] =\n",
            "\u001b[92m[120] \u001b[0m\n",
            "\n",
            "\u001b[94mt[1, 2, 0] =\n",
            "\u001b[92m120 \u001b[0m\n",
            "\n",
            "\n",
            "\u001b[94mTensor:\u001b[0m\n",
            "\u001b[1m[[[  0   1   2]\n",
            "  [ 10  11  12]]\n",
            "\n",
            " [[100 101 102]\n",
            "  [110 111 112]]]\u001b[0m\n",
            "\n",
            "\u001b[94mrank =\t\u001b[92m3\u001b[0m\t\u001b[94m\n",
            "shape =\t\u001b[92m(2, 2, 3)\u001b[0m\n",
            "\u001b[94mt[0] =\n",
            "\u001b[92m[[ 0  1  2]\n",
            " [10 11 12]] \u001b[0m\n",
            "\n",
            "\u001b[94mt[0, 1] =\n",
            "\u001b[92m[10 11 12] \u001b[0m\n",
            "\n",
            "\u001b[94mt[1, 0, 1] =\n",
            "\u001b[92m101 \u001b[0m\n",
            "\n",
            "\n",
            "\u001b[94mTensor:\u001b[0m\n",
            "\u001b[1m[[[[   0    1    2    3]\n",
            "   [  10   11   12   13]]\n",
            "\n",
            "  [[ 100  101  102  103]\n",
            "   [ 110  111  112  113]]\n",
            "\n",
            "  [[ 200  201  202  203]\n",
            "   [ 210  211  212  213]]]\n",
            "\n",
            "\n",
            " [[[1000 1001 1002 1003]\n",
            "   [1010 1011 1012 1013]]\n",
            "\n",
            "  [[1100 1101 1102 1103]\n",
            "   [1110 1111 1112 1113]]\n",
            "\n",
            "  [[1200 1201 1202 1203]\n",
            "   [1210 1211 1212 1213]]]]\u001b[0m\n",
            "\n",
            "\u001b[94mrank =\t\u001b[92m4\u001b[0m\t\u001b[94m\n",
            "shape =\t\u001b[92m(2, 3, 2, 4)\u001b[0m\n",
            "\u001b[94mt[1] =\n",
            "\u001b[92m[[[1000 1001 1002 1003]\n",
            "  [1010 1011 1012 1013]]\n",
            "\n",
            " [[1100 1101 1102 1103]\n",
            "  [1110 1111 1112 1113]]\n",
            "\n",
            " [[1200 1201 1202 1203]\n",
            "  [1210 1211 1212 1213]]] \u001b[0m\n",
            "\n",
            "\u001b[94mt[1, 2] =\n",
            "\u001b[92m[[1200 1201 1202 1203]\n",
            " [1210 1211 1212 1213]] \u001b[0m\n",
            "\n",
            "\u001b[94mt[1, 2, 1] =\n",
            "\u001b[92m[1210 1211 1212 1213] \u001b[0m\n",
            "\n",
            "\u001b[94mt[1, 2, 1, 3] =\n",
            "\u001b[92m1213 \u001b[0m\n",
            "\n",
            "\n"
          ]
        }
      ]
    },
    {
      "cell_type": "code",
      "source": [],
      "metadata": {
        "id": "GoRQLUlbEzhE"
      },
      "execution_count": 5,
      "outputs": []
    }
  ]
}